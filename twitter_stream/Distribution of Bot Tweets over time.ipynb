{
 "cells": [
  {
   "cell_type": "code",
   "execution_count": 1,
   "metadata": {
    "collapsed": true
   },
   "outputs": [],
   "source": [
    "from datetime import datetime\n",
    "from elasticsearch import Elasticsearch\n",
    "from pandas import DataFrame, Series\n",
    "import pandas as pd"
   ]
  },
  {
   "cell_type": "code",
   "execution_count": 6,
   "metadata": {
    "collapsed": true
   },
   "outputs": [],
   "source": [
    "es = Elasticsearch(['localhost:9212'])"
   ]
  },
  {
   "cell_type": "code",
   "execution_count": 14,
   "metadata": {
    "collapsed": false
   },
   "outputs": [],
   "source": [
    "res = es.search(index='user_live_updated', doc_type = 'tweet', body = {\n",
    "            \"query\": {\n",
    "                \"range\": {\n",
    "                    \"created_at\": {\n",
    "                      \n",
    "                        \"lte\": \"now\"\n",
    "                      \n",
    "                    }\n",
    "                }\n",
    "            },\n",
    "            \"aggs\": {\n",
    "                \"days\": {\n",
    "                    \"date_histogram\": {\n",
    "                        \"field\": \"created_at\",\n",
    "                        \"interval\": \"hour\"\n",
    "                    }\n",
    "                }\n",
    "            },\n",
    "            \"size\": 0})"
   ]
  },
  {
   "cell_type": "code",
   "execution_count": 15,
   "metadata": {
    "collapsed": true
   },
   "outputs": [],
   "source": [
    "buckets = (res['aggregations']['days']['buckets'])"
   ]
  },
  {
   "cell_type": "code",
   "execution_count": 17,
   "metadata": {
    "collapsed": false
   },
   "outputs": [],
   "source": [
    "for element in buckets: \n",
    "        del element['key'] "
   ]
  },
  {
   "cell_type": "code",
   "execution_count": 18,
   "metadata": {
    "collapsed": true
   },
   "outputs": [],
   "source": [
    "df = pd.DataFrame(buckets,columns=['key_as_string', 'doc_count'])\n",
    "df.columns = ['date', 'doc_count']"
   ]
  },
  {
   "cell_type": "code",
   "execution_count": 19,
   "metadata": {
    "collapsed": false
   },
   "outputs": [
    {
     "name": "stdout",
     "output_type": "stream",
     "text": [
      "                                date  doc_count\n",
      "0     Wed Jun 07 17:00:00 +0000 2017          1\n",
      "1     Wed Jun 07 18:00:00 +0000 2017          0\n",
      "2     Wed Jun 07 19:00:00 +0000 2017          0\n",
      "3     Wed Jun 07 20:00:00 +0000 2017          0\n",
      "4     Wed Jun 07 21:00:00 +0000 2017          0\n",
      "5     Wed Jun 07 22:00:00 +0000 2017          0\n",
      "6     Wed Jun 07 23:00:00 +0000 2017          0\n",
      "7     Thu Jun 08 00:00:00 +0000 2017          0\n",
      "8     Thu Jun 08 01:00:00 +0000 2017          0\n",
      "9     Thu Jun 08 02:00:00 +0000 2017          0\n",
      "10    Thu Jun 08 03:00:00 +0000 2017          0\n",
      "11    Thu Jun 08 04:00:00 +0000 2017          0\n",
      "12    Thu Jun 08 05:00:00 +0000 2017       4162\n",
      "13    Thu Jun 08 06:00:00 +0000 2017      12300\n",
      "14    Thu Jun 08 07:00:00 +0000 2017      16231\n",
      "15    Thu Jun 08 08:00:00 +0000 2017       5962\n",
      "16    Thu Jun 08 09:00:00 +0000 2017          0\n",
      "17    Thu Jun 08 10:00:00 +0000 2017          0\n",
      "18    Thu Jun 08 11:00:00 +0000 2017          0\n",
      "19    Thu Jun 08 12:00:00 +0000 2017          0\n",
      "20    Thu Jun 08 13:00:00 +0000 2017          0\n",
      "21    Thu Jun 08 14:00:00 +0000 2017          0\n",
      "22    Thu Jun 08 15:00:00 +0000 2017          0\n",
      "23    Thu Jun 08 16:00:00 +0000 2017          0\n",
      "24    Thu Jun 08 17:00:00 +0000 2017          2\n",
      "25    Thu Jun 08 18:00:00 +0000 2017          0\n",
      "26    Thu Jun 08 19:00:00 +0000 2017          0\n",
      "27    Thu Jun 08 20:00:00 +0000 2017          0\n",
      "28    Thu Jun 08 21:00:00 +0000 2017          1\n",
      "29    Thu Jun 08 22:00:00 +0000 2017          0\n",
      "...                              ...        ...\n",
      "1549  Fri Aug 11 06:00:00 +0000 2017          0\n",
      "1550  Fri Aug 11 07:00:00 +0000 2017          0\n",
      "1551  Fri Aug 11 08:00:00 +0000 2017          0\n",
      "1552  Fri Aug 11 09:00:00 +0000 2017          0\n",
      "1553  Fri Aug 11 10:00:00 +0000 2017          0\n",
      "1554  Fri Aug 11 11:00:00 +0000 2017          0\n",
      "1555  Fri Aug 11 12:00:00 +0000 2017          0\n",
      "1556  Fri Aug 11 13:00:00 +0000 2017          0\n",
      "1557  Fri Aug 11 14:00:00 +0000 2017          0\n",
      "1558  Fri Aug 11 15:00:00 +0000 2017          0\n",
      "1559  Fri Aug 11 16:00:00 +0000 2017          0\n",
      "1560  Fri Aug 11 17:00:00 +0000 2017          0\n",
      "1561  Fri Aug 11 18:00:00 +0000 2017          0\n",
      "1562  Fri Aug 11 19:00:00 +0000 2017          0\n",
      "1563  Fri Aug 11 20:00:00 +0000 2017          0\n",
      "1564  Fri Aug 11 21:00:00 +0000 2017          0\n",
      "1565  Fri Aug 11 22:00:00 +0000 2017          0\n",
      "1566  Fri Aug 11 23:00:00 +0000 2017          0\n",
      "1567  Sat Aug 12 00:00:00 +0000 2017          0\n",
      "1568  Sat Aug 12 01:00:00 +0000 2017          0\n",
      "1569  Sat Aug 12 02:00:00 +0000 2017          0\n",
      "1570  Sat Aug 12 03:00:00 +0000 2017          0\n",
      "1571  Sat Aug 12 04:00:00 +0000 2017        903\n",
      "1572  Sat Aug 12 05:00:00 +0000 2017       9047\n",
      "1573  Sat Aug 12 06:00:00 +0000 2017       7939\n",
      "1574  Sat Aug 12 07:00:00 +0000 2017       5590\n",
      "1575  Sat Aug 12 08:00:00 +0000 2017       8169\n",
      "1576  Sat Aug 12 09:00:00 +0000 2017       8564\n",
      "1577  Sat Aug 12 10:00:00 +0000 2017       9677\n",
      "1578  Sat Aug 12 11:00:00 +0000 2017       6142\n",
      "\n",
      "[1579 rows x 2 columns]\n"
     ]
    }
   ],
   "source": [
    "print(df)"
   ]
  },
  {
   "cell_type": "code",
   "execution_count": 21,
   "metadata": {
    "collapsed": true
   },
   "outputs": [],
   "source": [
    "df['date'] = pd.to_datetime(df['date'])"
   ]
  },
  {
   "cell_type": "code",
   "execution_count": 63,
   "metadata": {
    "collapsed": false
   },
   "outputs": [],
   "source": [
    "%matplotlib inline\n",
    "\n",
    "import matplotlib\n",
    "import matplotlib.pyplot as plt\n",
    "import matplotlib.dates as mdates\n",
    "import numpy as np\n"
   ]
  },
  {
   "cell_type": "code",
   "execution_count": 76,
   "metadata": {
    "collapsed": false
   },
   "outputs": [
    {
     "ename": "KeyError",
     "evalue": "'percent_bot'",
     "output_type": "error",
     "traceback": [
      "\u001b[0;31m---------------------------------------------------------------------------\u001b[0m",
      "\u001b[0;31mKeyError\u001b[0m                                  Traceback (most recent call last)",
      "\u001b[0;32m/Users/clarahalpin/anaconda/lib/python3.6/site-packages/pandas/indexes/base.py\u001b[0m in \u001b[0;36mget_loc\u001b[0;34m(self, key, method, tolerance)\u001b[0m\n\u001b[1;32m   2133\u001b[0m             \u001b[0;32mtry\u001b[0m\u001b[0;34m:\u001b[0m\u001b[0;34m\u001b[0m\u001b[0m\n\u001b[0;32m-> 2134\u001b[0;31m                 \u001b[0;32mreturn\u001b[0m \u001b[0mself\u001b[0m\u001b[0;34m.\u001b[0m\u001b[0m_engine\u001b[0m\u001b[0;34m.\u001b[0m\u001b[0mget_loc\u001b[0m\u001b[0;34m(\u001b[0m\u001b[0mkey\u001b[0m\u001b[0;34m)\u001b[0m\u001b[0;34m\u001b[0m\u001b[0m\n\u001b[0m\u001b[1;32m   2135\u001b[0m             \u001b[0;32mexcept\u001b[0m \u001b[0mKeyError\u001b[0m\u001b[0;34m:\u001b[0m\u001b[0;34m\u001b[0m\u001b[0m\n",
      "\u001b[0;32mpandas/index.pyx\u001b[0m in \u001b[0;36mpandas.index.IndexEngine.get_loc (pandas/index.c:4433)\u001b[0;34m()\u001b[0m\n",
      "\u001b[0;32mpandas/index.pyx\u001b[0m in \u001b[0;36mpandas.index.IndexEngine.get_loc (pandas/index.c:4279)\u001b[0;34m()\u001b[0m\n",
      "\u001b[0;32mpandas/src/hashtable_class_helper.pxi\u001b[0m in \u001b[0;36mpandas.hashtable.PyObjectHashTable.get_item (pandas/hashtable.c:13742)\u001b[0;34m()\u001b[0m\n",
      "\u001b[0;32mpandas/src/hashtable_class_helper.pxi\u001b[0m in \u001b[0;36mpandas.hashtable.PyObjectHashTable.get_item (pandas/hashtable.c:13696)\u001b[0;34m()\u001b[0m\n",
      "\u001b[0;31mKeyError\u001b[0m: 'percent_bot'",
      "\nDuring handling of the above exception, another exception occurred:\n",
      "\u001b[0;31mKeyError\u001b[0m                                  Traceback (most recent call last)",
      "\u001b[0;32m<ipython-input-76-7085ce0dd3f7>\u001b[0m in \u001b[0;36m<module>\u001b[0;34m()\u001b[0m\n\u001b[1;32m      1\u001b[0m \u001b[0mfig\u001b[0m\u001b[0;34m,\u001b[0m \u001b[0max\u001b[0m \u001b[0;34m=\u001b[0m \u001b[0mplt\u001b[0m\u001b[0;34m.\u001b[0m\u001b[0msubplots\u001b[0m\u001b[0;34m(\u001b[0m\u001b[0;36m1\u001b[0m\u001b[0;34m,\u001b[0m \u001b[0;36m1\u001b[0m\u001b[0;34m,\u001b[0m \u001b[0mfigsize\u001b[0m\u001b[0;34m=\u001b[0m\u001b[0;34m(\u001b[0m\u001b[0;36m20\u001b[0m\u001b[0;34m,\u001b[0m \u001b[0;36m10\u001b[0m\u001b[0;34m)\u001b[0m\u001b[0;34m)\u001b[0m\u001b[0;34m\u001b[0m\u001b[0m\n\u001b[1;32m      2\u001b[0m \u001b[0mx\u001b[0m \u001b[0;34m=\u001b[0m \u001b[0mdf\u001b[0m\u001b[0;34m[\u001b[0m\u001b[0;34m'date'\u001b[0m\u001b[0;34m]\u001b[0m\u001b[0;34m.\u001b[0m\u001b[0mdt\u001b[0m\u001b[0;34m.\u001b[0m\u001b[0mhour\u001b[0m\u001b[0;34m\u001b[0m\u001b[0m\n\u001b[0;32m----> 3\u001b[0;31m \u001b[0mp1\u001b[0m \u001b[0;34m=\u001b[0m \u001b[0max\u001b[0m\u001b[0;34m.\u001b[0m\u001b[0mbar\u001b[0m\u001b[0;34m(\u001b[0m\u001b[0mdf\u001b[0m\u001b[0;34m[\u001b[0m\u001b[0;34m'date'\u001b[0m\u001b[0;34m]\u001b[0m\u001b[0;34m.\u001b[0m\u001b[0mdt\u001b[0m\u001b[0;34m.\u001b[0m\u001b[0mhour\u001b[0m\u001b[0;34m,\u001b[0m \u001b[0mdf\u001b[0m\u001b[0;34m[\u001b[0m\u001b[0;34m\"percent_bot\"\u001b[0m\u001b[0;34m]\u001b[0m\u001b[0;34m)\u001b[0m\u001b[0;34m\u001b[0m\u001b[0m\n\u001b[0m\u001b[1;32m      4\u001b[0m \u001b[0mp2\u001b[0m \u001b[0;34m=\u001b[0m \u001b[0max\u001b[0m\u001b[0;34m.\u001b[0m\u001b[0mbar\u001b[0m\u001b[0;34m(\u001b[0m\u001b[0mdf\u001b[0m\u001b[0;34m[\u001b[0m\u001b[0;34m'date'\u001b[0m\u001b[0;34m]\u001b[0m\u001b[0;34m.\u001b[0m\u001b[0mdt\u001b[0m\u001b[0;34m.\u001b[0m\u001b[0mhour\u001b[0m\u001b[0;34m,\u001b[0m \u001b[0mdf\u001b[0m\u001b[0;34m[\u001b[0m\u001b[0;34m\"percent_human\"\u001b[0m\u001b[0;34m]\u001b[0m\u001b[0;34m)\u001b[0m\u001b[0;34m\u001b[0m\u001b[0m\n\u001b[1;32m      5\u001b[0m \u001b[0mplt\u001b[0m\u001b[0;34m.\u001b[0m\u001b[0mxticks\u001b[0m\u001b[0;34m(\u001b[0m\u001b[0mnp\u001b[0m\u001b[0;34m.\u001b[0m\u001b[0marange\u001b[0m\u001b[0;34m(\u001b[0m\u001b[0mmin\u001b[0m\u001b[0;34m(\u001b[0m\u001b[0mx\u001b[0m\u001b[0;34m)\u001b[0m\u001b[0;34m,\u001b[0m \u001b[0mmax\u001b[0m\u001b[0;34m(\u001b[0m\u001b[0mx\u001b[0m\u001b[0;34m)\u001b[0m\u001b[0;34m+\u001b[0m\u001b[0;36m1\u001b[0m\u001b[0;34m,\u001b[0m \u001b[0;36m1.0\u001b[0m\u001b[0;34m)\u001b[0m\u001b[0;34m)\u001b[0m\u001b[0;34m\u001b[0m\u001b[0m\n",
      "\u001b[0;32m/Users/clarahalpin/anaconda/lib/python3.6/site-packages/pandas/core/frame.py\u001b[0m in \u001b[0;36m__getitem__\u001b[0;34m(self, key)\u001b[0m\n\u001b[1;32m   2057\u001b[0m             \u001b[0;32mreturn\u001b[0m \u001b[0mself\u001b[0m\u001b[0;34m.\u001b[0m\u001b[0m_getitem_multilevel\u001b[0m\u001b[0;34m(\u001b[0m\u001b[0mkey\u001b[0m\u001b[0;34m)\u001b[0m\u001b[0;34m\u001b[0m\u001b[0m\n\u001b[1;32m   2058\u001b[0m         \u001b[0;32melse\u001b[0m\u001b[0;34m:\u001b[0m\u001b[0;34m\u001b[0m\u001b[0m\n\u001b[0;32m-> 2059\u001b[0;31m             \u001b[0;32mreturn\u001b[0m \u001b[0mself\u001b[0m\u001b[0;34m.\u001b[0m\u001b[0m_getitem_column\u001b[0m\u001b[0;34m(\u001b[0m\u001b[0mkey\u001b[0m\u001b[0;34m)\u001b[0m\u001b[0;34m\u001b[0m\u001b[0m\n\u001b[0m\u001b[1;32m   2060\u001b[0m \u001b[0;34m\u001b[0m\u001b[0m\n\u001b[1;32m   2061\u001b[0m     \u001b[0;32mdef\u001b[0m \u001b[0m_getitem_column\u001b[0m\u001b[0;34m(\u001b[0m\u001b[0mself\u001b[0m\u001b[0;34m,\u001b[0m \u001b[0mkey\u001b[0m\u001b[0;34m)\u001b[0m\u001b[0;34m:\u001b[0m\u001b[0;34m\u001b[0m\u001b[0m\n",
      "\u001b[0;32m/Users/clarahalpin/anaconda/lib/python3.6/site-packages/pandas/core/frame.py\u001b[0m in \u001b[0;36m_getitem_column\u001b[0;34m(self, key)\u001b[0m\n\u001b[1;32m   2064\u001b[0m         \u001b[0;31m# get column\u001b[0m\u001b[0;34m\u001b[0m\u001b[0;34m\u001b[0m\u001b[0m\n\u001b[1;32m   2065\u001b[0m         \u001b[0;32mif\u001b[0m \u001b[0mself\u001b[0m\u001b[0;34m.\u001b[0m\u001b[0mcolumns\u001b[0m\u001b[0;34m.\u001b[0m\u001b[0mis_unique\u001b[0m\u001b[0;34m:\u001b[0m\u001b[0;34m\u001b[0m\u001b[0m\n\u001b[0;32m-> 2066\u001b[0;31m             \u001b[0;32mreturn\u001b[0m \u001b[0mself\u001b[0m\u001b[0;34m.\u001b[0m\u001b[0m_get_item_cache\u001b[0m\u001b[0;34m(\u001b[0m\u001b[0mkey\u001b[0m\u001b[0;34m)\u001b[0m\u001b[0;34m\u001b[0m\u001b[0m\n\u001b[0m\u001b[1;32m   2067\u001b[0m \u001b[0;34m\u001b[0m\u001b[0m\n\u001b[1;32m   2068\u001b[0m         \u001b[0;31m# duplicate columns & possible reduce dimensionality\u001b[0m\u001b[0;34m\u001b[0m\u001b[0;34m\u001b[0m\u001b[0m\n",
      "\u001b[0;32m/Users/clarahalpin/anaconda/lib/python3.6/site-packages/pandas/core/generic.py\u001b[0m in \u001b[0;36m_get_item_cache\u001b[0;34m(self, item)\u001b[0m\n\u001b[1;32m   1384\u001b[0m         \u001b[0mres\u001b[0m \u001b[0;34m=\u001b[0m \u001b[0mcache\u001b[0m\u001b[0;34m.\u001b[0m\u001b[0mget\u001b[0m\u001b[0;34m(\u001b[0m\u001b[0mitem\u001b[0m\u001b[0;34m)\u001b[0m\u001b[0;34m\u001b[0m\u001b[0m\n\u001b[1;32m   1385\u001b[0m         \u001b[0;32mif\u001b[0m \u001b[0mres\u001b[0m \u001b[0;32mis\u001b[0m \u001b[0;32mNone\u001b[0m\u001b[0;34m:\u001b[0m\u001b[0;34m\u001b[0m\u001b[0m\n\u001b[0;32m-> 1386\u001b[0;31m             \u001b[0mvalues\u001b[0m \u001b[0;34m=\u001b[0m \u001b[0mself\u001b[0m\u001b[0;34m.\u001b[0m\u001b[0m_data\u001b[0m\u001b[0;34m.\u001b[0m\u001b[0mget\u001b[0m\u001b[0;34m(\u001b[0m\u001b[0mitem\u001b[0m\u001b[0;34m)\u001b[0m\u001b[0;34m\u001b[0m\u001b[0m\n\u001b[0m\u001b[1;32m   1387\u001b[0m             \u001b[0mres\u001b[0m \u001b[0;34m=\u001b[0m \u001b[0mself\u001b[0m\u001b[0;34m.\u001b[0m\u001b[0m_box_item_values\u001b[0m\u001b[0;34m(\u001b[0m\u001b[0mitem\u001b[0m\u001b[0;34m,\u001b[0m \u001b[0mvalues\u001b[0m\u001b[0;34m)\u001b[0m\u001b[0;34m\u001b[0m\u001b[0m\n\u001b[1;32m   1388\u001b[0m             \u001b[0mcache\u001b[0m\u001b[0;34m[\u001b[0m\u001b[0mitem\u001b[0m\u001b[0;34m]\u001b[0m \u001b[0;34m=\u001b[0m \u001b[0mres\u001b[0m\u001b[0;34m\u001b[0m\u001b[0m\n",
      "\u001b[0;32m/Users/clarahalpin/anaconda/lib/python3.6/site-packages/pandas/core/internals.py\u001b[0m in \u001b[0;36mget\u001b[0;34m(self, item, fastpath)\u001b[0m\n\u001b[1;32m   3541\u001b[0m \u001b[0;34m\u001b[0m\u001b[0m\n\u001b[1;32m   3542\u001b[0m             \u001b[0;32mif\u001b[0m \u001b[0;32mnot\u001b[0m \u001b[0misnull\u001b[0m\u001b[0;34m(\u001b[0m\u001b[0mitem\u001b[0m\u001b[0;34m)\u001b[0m\u001b[0;34m:\u001b[0m\u001b[0;34m\u001b[0m\u001b[0m\n\u001b[0;32m-> 3543\u001b[0;31m                 \u001b[0mloc\u001b[0m \u001b[0;34m=\u001b[0m \u001b[0mself\u001b[0m\u001b[0;34m.\u001b[0m\u001b[0mitems\u001b[0m\u001b[0;34m.\u001b[0m\u001b[0mget_loc\u001b[0m\u001b[0;34m(\u001b[0m\u001b[0mitem\u001b[0m\u001b[0;34m)\u001b[0m\u001b[0;34m\u001b[0m\u001b[0m\n\u001b[0m\u001b[1;32m   3544\u001b[0m             \u001b[0;32melse\u001b[0m\u001b[0;34m:\u001b[0m\u001b[0;34m\u001b[0m\u001b[0m\n\u001b[1;32m   3545\u001b[0m                 \u001b[0mindexer\u001b[0m \u001b[0;34m=\u001b[0m \u001b[0mnp\u001b[0m\u001b[0;34m.\u001b[0m\u001b[0marange\u001b[0m\u001b[0;34m(\u001b[0m\u001b[0mlen\u001b[0m\u001b[0;34m(\u001b[0m\u001b[0mself\u001b[0m\u001b[0;34m.\u001b[0m\u001b[0mitems\u001b[0m\u001b[0;34m)\u001b[0m\u001b[0;34m)\u001b[0m\u001b[0;34m[\u001b[0m\u001b[0misnull\u001b[0m\u001b[0;34m(\u001b[0m\u001b[0mself\u001b[0m\u001b[0;34m.\u001b[0m\u001b[0mitems\u001b[0m\u001b[0;34m)\u001b[0m\u001b[0;34m]\u001b[0m\u001b[0;34m\u001b[0m\u001b[0m\n",
      "\u001b[0;32m/Users/clarahalpin/anaconda/lib/python3.6/site-packages/pandas/indexes/base.py\u001b[0m in \u001b[0;36mget_loc\u001b[0;34m(self, key, method, tolerance)\u001b[0m\n\u001b[1;32m   2134\u001b[0m                 \u001b[0;32mreturn\u001b[0m \u001b[0mself\u001b[0m\u001b[0;34m.\u001b[0m\u001b[0m_engine\u001b[0m\u001b[0;34m.\u001b[0m\u001b[0mget_loc\u001b[0m\u001b[0;34m(\u001b[0m\u001b[0mkey\u001b[0m\u001b[0;34m)\u001b[0m\u001b[0;34m\u001b[0m\u001b[0m\n\u001b[1;32m   2135\u001b[0m             \u001b[0;32mexcept\u001b[0m \u001b[0mKeyError\u001b[0m\u001b[0;34m:\u001b[0m\u001b[0;34m\u001b[0m\u001b[0m\n\u001b[0;32m-> 2136\u001b[0;31m                 \u001b[0;32mreturn\u001b[0m \u001b[0mself\u001b[0m\u001b[0;34m.\u001b[0m\u001b[0m_engine\u001b[0m\u001b[0;34m.\u001b[0m\u001b[0mget_loc\u001b[0m\u001b[0;34m(\u001b[0m\u001b[0mself\u001b[0m\u001b[0;34m.\u001b[0m\u001b[0m_maybe_cast_indexer\u001b[0m\u001b[0;34m(\u001b[0m\u001b[0mkey\u001b[0m\u001b[0;34m)\u001b[0m\u001b[0;34m)\u001b[0m\u001b[0;34m\u001b[0m\u001b[0m\n\u001b[0m\u001b[1;32m   2137\u001b[0m \u001b[0;34m\u001b[0m\u001b[0m\n\u001b[1;32m   2138\u001b[0m         \u001b[0mindexer\u001b[0m \u001b[0;34m=\u001b[0m \u001b[0mself\u001b[0m\u001b[0;34m.\u001b[0m\u001b[0mget_indexer\u001b[0m\u001b[0;34m(\u001b[0m\u001b[0;34m[\u001b[0m\u001b[0mkey\u001b[0m\u001b[0;34m]\u001b[0m\u001b[0;34m,\u001b[0m \u001b[0mmethod\u001b[0m\u001b[0;34m=\u001b[0m\u001b[0mmethod\u001b[0m\u001b[0;34m,\u001b[0m \u001b[0mtolerance\u001b[0m\u001b[0;34m=\u001b[0m\u001b[0mtolerance\u001b[0m\u001b[0;34m)\u001b[0m\u001b[0;34m\u001b[0m\u001b[0m\n",
      "\u001b[0;32mpandas/index.pyx\u001b[0m in \u001b[0;36mpandas.index.IndexEngine.get_loc (pandas/index.c:4433)\u001b[0;34m()\u001b[0m\n",
      "\u001b[0;32mpandas/index.pyx\u001b[0m in \u001b[0;36mpandas.index.IndexEngine.get_loc (pandas/index.c:4279)\u001b[0;34m()\u001b[0m\n",
      "\u001b[0;32mpandas/src/hashtable_class_helper.pxi\u001b[0m in \u001b[0;36mpandas.hashtable.PyObjectHashTable.get_item (pandas/hashtable.c:13742)\u001b[0;34m()\u001b[0m\n",
      "\u001b[0;32mpandas/src/hashtable_class_helper.pxi\u001b[0m in \u001b[0;36mpandas.hashtable.PyObjectHashTable.get_item (pandas/hashtable.c:13696)\u001b[0;34m()\u001b[0m\n",
      "\u001b[0;31mKeyError\u001b[0m: 'percent_bot'"
     ]
    },
    {
     "data": {
      "image/png": "[encoded data removed]",
      "text/plain": [
       "<matplotlib.figure.Figure at 0x11f3a3f98>"
      ]
     },
     "metadata": {},
     "output_type": "display_data"
    }
   ],
   "source": [
    "fig, ax = plt.subplots(1, 1, figsize=(20, 10))\n",
    "x = df['date'].dt.hour\n",
    "p1 = ax.bar(df['date'].dt.hour, df[\"percent_bot\"])\n",
    "p2 = ax.bar(df['date'].dt.hour, df[\"percent_human\"])\n",
    "plt.xticks(np.arange(min(x), max(x)+1, 1.0))\n",
    "plt.xlabel('Date (Hour)', fontsize = 16, labelpad=20)\n",
    "plt.ylabel('Number of Tweets', fontsize='18')\n",
    "plt.suptitle('Times of bot tweets', fontsize='24')\n",
    "\n",
    "\n",
    "plt.show()"
   ]
  },
  {
   "cell_type": "code",
   "execution_count": 69,
   "metadata": {
    "collapsed": true
   },
   "outputs": [],
   "source": [
    "res2 = es.search(index='live_updated', doc_type = 'tweet', body = {\n",
    "            \"query\": {\n",
    "                \"range\": {\n",
    "                    \"created_at\": {\n",
    "                      \n",
    "                        \"lte\": \"now\"\n",
    "                      \n",
    "                    }\n",
    "                }\n",
    "            },\n",
    "            \"aggs\": {\n",
    "                \"days\": {\n",
    "                    \"date_histogram\": {\n",
    "                        \"field\": \"created_at\",\n",
    "                        \"interval\": \"hour\"\n",
    "                    }\n",
    "                }\n",
    "            },\n",
    "            \"size\": 0})"
   ]
  },
  {
   "cell_type": "code",
   "execution_count": 70,
   "metadata": {
    "collapsed": true
   },
   "outputs": [],
   "source": [
    "buckets2 = (res2['aggregations']['days']['buckets'])"
   ]
  },
  {
   "cell_type": "code",
   "execution_count": 71,
   "metadata": {
    "collapsed": true
   },
   "outputs": [],
   "source": [
    "for element in buckets2: \n",
    "        del element['key'] "
   ]
  },
  {
   "cell_type": "code",
   "execution_count": 72,
   "metadata": {
    "collapsed": true
   },
   "outputs": [],
   "source": [
    "df2 = pd.DataFrame(buckets2,columns=['key_as_string', 'doc_count'])\n",
    "df2.columns = ['date', 'doc_count']"
   ]
  },
  {
   "cell_type": "code",
   "execution_count": 73,
   "metadata": {
    "collapsed": false
   },
   "outputs": [
    {
     "name": "stdout",
     "output_type": "stream",
     "text": [
      "                                date  doc_count\n",
      "0     Wed Jun 07 17:00:00 +0000 2017        369\n",
      "1     Wed Jun 07 18:00:00 +0000 2017        412\n",
      "2     Wed Jun 07 19:00:00 +0000 2017        305\n",
      "3     Wed Jun 07 20:00:00 +0000 2017        217\n",
      "4     Wed Jun 07 21:00:00 +0000 2017        202\n",
      "5     Wed Jun 07 22:00:00 +0000 2017        174\n",
      "6     Wed Jun 07 23:00:00 +0000 2017        207\n",
      "7     Thu Jun 08 00:00:00 +0000 2017        179\n",
      "8     Thu Jun 08 01:00:00 +0000 2017        175\n",
      "9     Thu Jun 08 02:00:00 +0000 2017        143\n",
      "10    Thu Jun 08 03:00:00 +0000 2017        113\n",
      "11    Thu Jun 08 04:00:00 +0000 2017         60\n",
      "12    Thu Jun 08 05:00:00 +0000 2017         71\n",
      "13    Thu Jun 08 06:00:00 +0000 2017         62\n",
      "14    Thu Jun 08 07:00:00 +0000 2017         52\n",
      "15    Thu Jun 08 08:00:00 +0000 2017         29\n",
      "16    Thu Jun 08 09:00:00 +0000 2017          0\n",
      "17    Thu Jun 08 10:00:00 +0000 2017          0\n",
      "18    Thu Jun 08 11:00:00 +0000 2017          0\n",
      "19    Thu Jun 08 12:00:00 +0000 2017          0\n",
      "20    Thu Jun 08 13:00:00 +0000 2017          0\n",
      "21    Thu Jun 08 14:00:00 +0000 2017          0\n",
      "22    Thu Jun 08 15:00:00 +0000 2017          0\n",
      "23    Thu Jun 08 16:00:00 +0000 2017          0\n",
      "24    Thu Jun 08 17:00:00 +0000 2017         57\n",
      "25    Thu Jun 08 18:00:00 +0000 2017        113\n",
      "26    Thu Jun 08 19:00:00 +0000 2017        156\n",
      "27    Thu Jun 08 20:00:00 +0000 2017        205\n",
      "28    Thu Jun 08 21:00:00 +0000 2017        182\n",
      "29    Thu Jun 08 22:00:00 +0000 2017        123\n",
      "...                              ...        ...\n",
      "1553  Fri Aug 11 10:00:00 +0000 2017          0\n",
      "1554  Fri Aug 11 11:00:00 +0000 2017          0\n",
      "1555  Fri Aug 11 12:00:00 +0000 2017          0\n",
      "1556  Fri Aug 11 13:00:00 +0000 2017          0\n",
      "1557  Fri Aug 11 14:00:00 +0000 2017          0\n",
      "1558  Fri Aug 11 15:00:00 +0000 2017         17\n",
      "1559  Fri Aug 11 16:00:00 +0000 2017        123\n",
      "1560  Fri Aug 11 17:00:00 +0000 2017        141\n",
      "1561  Fri Aug 11 18:00:00 +0000 2017        156\n",
      "1562  Fri Aug 11 19:00:00 +0000 2017        194\n",
      "1563  Fri Aug 11 20:00:00 +0000 2017        137\n",
      "1564  Fri Aug 11 21:00:00 +0000 2017        183\n",
      "1565  Fri Aug 11 22:00:00 +0000 2017        271\n",
      "1566  Fri Aug 11 23:00:00 +0000 2017        172\n",
      "1567  Sat Aug 12 00:00:00 +0000 2017         98\n",
      "1568  Sat Aug 12 01:00:00 +0000 2017         83\n",
      "1569  Sat Aug 12 02:00:00 +0000 2017         75\n",
      "1570  Sat Aug 12 03:00:00 +0000 2017         95\n",
      "1571  Sat Aug 12 04:00:00 +0000 2017         74\n",
      "1572  Sat Aug 12 05:00:00 +0000 2017         67\n",
      "1573  Sat Aug 12 06:00:00 +0000 2017         82\n",
      "1574  Sat Aug 12 07:00:00 +0000 2017         82\n",
      "1575  Sat Aug 12 08:00:00 +0000 2017        105\n",
      "1576  Sat Aug 12 09:00:00 +0000 2017        128\n",
      "1577  Sat Aug 12 10:00:00 +0000 2017        175\n",
      "1578  Sat Aug 12 11:00:00 +0000 2017        149\n",
      "1579  Sat Aug 12 12:00:00 +0000 2017        194\n",
      "1580  Sat Aug 12 13:00:00 +0000 2017        166\n",
      "1581  Sat Aug 12 14:00:00 +0000 2017        182\n",
      "1582  Sat Aug 12 15:00:00 +0000 2017         72\n",
      "\n",
      "[1583 rows x 2 columns]\n"
     ]
    }
   ],
   "source": [
    "print(df2)"
   ]
  },
  {
   "cell_type": "code",
   "execution_count": 75,
   "metadata": {
    "collapsed": false
   },
   "outputs": [
    {
     "data": {
      "image/png": "[encoded data removed]",
      "text/plain": [
       "<matplotlib.figure.Figure at 0x11df98ef0>"
      ]
     },
     "metadata": {},
     "output_type": "display_data"
    }
   ],
   "source": [
    "df2['date'] = pd.to_datetime(df2['date'])\n",
    "fig, ax = plt.subplots(1, 1, figsize=(20, 10))\n",
    "x = df2['date'].dt.hour\n",
    "ax.bar(df2['date'].dt.hour, df2[\"doc_count\"])\n",
    "plt.xticks(np.arange(min(x), max(x)+1, 1.0))\n",
    "plt.xlabel('Date (Hour)', fontsize = 16, labelpad=20)\n",
    "plt.ylabel('Number of Tweets', fontsize='18')\n",
    "plt.suptitle('Times of human tweets', fontsize='24')\n",
    "\n",
    "\n",
    "plt.show()"
   ]
  },
  {
   "cell_type": "code",
   "execution_count": null,
   "metadata": {
    "collapsed": true
   },
   "outputs": [],
   "source": []
  }
 ],
 "metadata": {
  "kernelspec": {
   "display_name": "Python 3",
   "language": "python",
   "name": "python3"
  },
  "language_info": {
   "codemirror_mode": {
    "name": "ipython",
    "version": 3
   },
   "file_extension": ".py",
   "mimetype": "text/x-python",
   "name": "python",
   "nbconvert_exporter": "python",
   "pygments_lexer": "ipython3",
   "version": "3.6.0"
  }
 },
 "nbformat": 4,
 "nbformat_minor": 2
}
