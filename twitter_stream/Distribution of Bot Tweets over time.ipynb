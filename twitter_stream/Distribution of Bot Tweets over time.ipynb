{
 "cells": [
  {
   "cell_type": "code",
   "execution_count": 1,
   "metadata": {
    "collapsed": true
   },
   "outputs": [],
   "source": [
    "from datetime import datetime\n",
    "from elasticsearch import Elasticsearch\n",
    "from pandas import DataFrame, Series\n",
    "import pandas as pd"
   ]
  },
  {
   "cell_type": "code",
   "execution_count": 6,
   "metadata": {
    "collapsed": true
   },
   "outputs": [],
   "source": [
    "es = Elasticsearch(['localhost:9212'])"
   ]
  },
  {
   "cell_type": "code",
   "execution_count": 14,
   "metadata": {
    "collapsed": false
   },
   "outputs": [],
   "source": [
    "res = es.search(index='user_live_updated', doc_type = 'tweet', body = {\n",
    "            \"query\": {\n",
    "                \"range\": {\n",
    "                    \"created_at\": {\n",
    "                      \n",
    "                        \"lte\": \"now\"\n",
    "                      \n",
    "                    }\n",
    "                }\n",
    "            },\n",
    "            \"aggs\": {\n",
    "                \"days\": {\n",
    "                    \"date_histogram\": {\n",
    "                        \"field\": \"created_at\",\n",
    "                        \"interval\": \"hour\"\n",
    "                    }\n",
    "                }\n",
    "            },\n",
    "            \"size\": 0})"
   ]
  },
  {
   "cell_type": "code",
   "execution_count": 15,
   "metadata": {
    "collapsed": true
   },
   "outputs": [],
   "source": [
    "buckets = (res['aggregations']['days']['buckets'])"
   ]
  },
  {
   "cell_type": "code",
   "execution_count": 17,
   "metadata": {
    "collapsed": false
   },
   "outputs": [],
   "source": [
    "for element in buckets: \n",
    "        del element['key'] "
   ]
  },
  {
   "cell_type": "code",
   "execution_count": 18,
   "metadata": {
    "collapsed": true
   },
   "outputs": [],
   "source": [
    "df = pd.DataFrame(buckets,columns=['key_as_string', 'doc_count'])\n",
    "df.columns = ['date', 'doc_count']"
   ]
  },
  {
   "cell_type": "code",
   "execution_count": 19,
   "metadata": {
    "collapsed": false
   },
   "outputs": [
    {
     "name": "stdout",
     "output_type": "stream",
     "text": [
      "                                date  doc_count\n",
      "0     Wed Jun 07 17:00:00 +0000 2017          1\n",
      "1     Wed Jun 07 18:00:00 +0000 2017          0\n",
      "2     Wed Jun 07 19:00:00 +0000 2017          0\n",
      "3     Wed Jun 07 20:00:00 +0000 2017          0\n",
      "4     Wed Jun 07 21:00:00 +0000 2017          0\n",
      "5     Wed Jun 07 22:00:00 +0000 2017          0\n",
      "6     Wed Jun 07 23:00:00 +0000 2017          0\n",
      "7     Thu Jun 08 00:00:00 +0000 2017          0\n",
      "8     Thu Jun 08 01:00:00 +0000 2017          0\n",
      "9     Thu Jun 08 02:00:00 +0000 2017          0\n",
      "10    Thu Jun 08 03:00:00 +0000 2017          0\n",
      "11    Thu Jun 08 04:00:00 +0000 2017          0\n",
      "12    Thu Jun 08 05:00:00 +0000 2017       4162\n",
      "13    Thu Jun 08 06:00:00 +0000 2017      12300\n",
      "14    Thu Jun 08 07:00:00 +0000 2017      16231\n",
      "15    Thu Jun 08 08:00:00 +0000 2017       5962\n",
      "16    Thu Jun 08 09:00:00 +0000 2017          0\n",
      "17    Thu Jun 08 10:00:00 +0000 2017          0\n",
      "18    Thu Jun 08 11:00:00 +0000 2017          0\n",
      "19    Thu Jun 08 12:00:00 +0000 2017          0\n",
      "20    Thu Jun 08 13:00:00 +0000 2017          0\n",
      "21    Thu Jun 08 14:00:00 +0000 2017          0\n",
      "22    Thu Jun 08 15:00:00 +0000 2017          0\n",
      "23    Thu Jun 08 16:00:00 +0000 2017          0\n",
      "24    Thu Jun 08 17:00:00 +0000 2017          2\n",
      "25    Thu Jun 08 18:00:00 +0000 2017          0\n",
      "26    Thu Jun 08 19:00:00 +0000 2017          0\n",
      "27    Thu Jun 08 20:00:00 +0000 2017          0\n",
      "28    Thu Jun 08 21:00:00 +0000 2017          1\n",
      "29    Thu Jun 08 22:00:00 +0000 2017          0\n",
      "...                              ...        ...\n",
      "1549  Fri Aug 11 06:00:00 +0000 2017          0\n",
      "1550  Fri Aug 11 07:00:00 +0000 2017          0\n",
      "1551  Fri Aug 11 08:00:00 +0000 2017          0\n",
      "1552  Fri Aug 11 09:00:00 +0000 2017          0\n",
      "1553  Fri Aug 11 10:00:00 +0000 2017          0\n",
      "1554  Fri Aug 11 11:00:00 +0000 2017          0\n",
      "1555  Fri Aug 11 12:00:00 +0000 2017          0\n",
      "1556  Fri Aug 11 13:00:00 +0000 2017          0\n",
      "1557  Fri Aug 11 14:00:00 +0000 2017          0\n",
      "1558  Fri Aug 11 15:00:00 +0000 2017          0\n",
      "1559  Fri Aug 11 16:00:00 +0000 2017          0\n",
      "1560  Fri Aug 11 17:00:00 +0000 2017          0\n",
      "1561  Fri Aug 11 18:00:00 +0000 2017          0\n",
      "1562  Fri Aug 11 19:00:00 +0000 2017          0\n",
      "1563  Fri Aug 11 20:00:00 +0000 2017          0\n",
      "1564  Fri Aug 11 21:00:00 +0000 2017          0\n",
      "1565  Fri Aug 11 22:00:00 +0000 2017          0\n",
      "1566  Fri Aug 11 23:00:00 +0000 2017          0\n",
      "1567  Sat Aug 12 00:00:00 +0000 2017          0\n",
      "1568  Sat Aug 12 01:00:00 +0000 2017          0\n",
      "1569  Sat Aug 12 02:00:00 +0000 2017          0\n",
      "1570  Sat Aug 12 03:00:00 +0000 2017          0\n",
      "1571  Sat Aug 12 04:00:00 +0000 2017        903\n",
      "1572  Sat Aug 12 05:00:00 +0000 2017       9047\n",
      "1573  Sat Aug 12 06:00:00 +0000 2017       7939\n",
      "1574  Sat Aug 12 07:00:00 +0000 2017       5590\n",
      "1575  Sat Aug 12 08:00:00 +0000 2017       8169\n",
      "1576  Sat Aug 12 09:00:00 +0000 2017       8564\n",
      "1577  Sat Aug 12 10:00:00 +0000 2017       9677\n",
      "1578  Sat Aug 12 11:00:00 +0000 2017       6142\n",
      "\n",
      "[1579 rows x 2 columns]\n"
     ]
    }
   ],
   "source": [
    "print(df)"
   ]
  },
  {
   "cell_type": "code",
   "execution_count": 21,
   "metadata": {
    "collapsed": true
   },
   "outputs": [],
   "source": [
    "df['date'] = pd.to_datetime(df['date'])"
   ]
  },
  {
   "cell_type": "code",
   "execution_count": 63,
   "metadata": {
    "collapsed": false
   },
   "outputs": [],
   "source": [
    "%matplotlib inline\n",
    "\n",
    "import matplotlib\n",
    "import matplotlib.pyplot as plt\n",
    "import matplotlib.dates as mdates\n",
    "import numpy as np\n"
   ]
  },
  {
   "cell_type": "code",
   "execution_count": 66,
   "metadata": {
    "collapsed": false
   },
   "outputs": [
    {
     "data": {
      "image/png": "[encoded data removed]",
      "text/plain": [
       "<matplotlib.figure.Figure at 0x11f0bc0b8>"
      ]
     },
     "metadata": {},
     "output_type": "display_data"
    }
   ],
   "source": [
    "fig, ax = plt.subplots(1, 1, figsize=(20, 10))\n",
    "x = df['date'].dt.hour\n",
    "ax.bar(df['date'].dt.hour, df[\"doc_count\"])\n",
    "plt.xticks(np.arange(min(x)+1, max(x)+1, 1.0))\n",
    "plt.xlabel('Date (Hour)', fontsize = 16, labelpad=20)\n",
    "plt.ylabel('Number of Tweets', fontsize='18')\n",
    "plt.suptitle('Times of bot tweets', fontsize='24')\n",
    "\n",
    "\n",
    "plt.show()"
   ]
  },
  {
   "cell_type": "code",
   "execution_count": null,
   "metadata": {
    "collapsed": true
   },
   "outputs": [],
   "source": []
  }
 ],
 "metadata": {
  "kernelspec": {
   "display_name": "Python 3",
   "language": "python",
   "name": "python3"
  },
  "language_info": {
   "codemirror_mode": {
    "name": "ipython",
    "version": 3
   },
   "file_extension": ".py",
   "mimetype": "text/x-python",
   "name": "python",
   "nbconvert_exporter": "python",
   "pygments_lexer": "ipython3",
   "version": "3.6.0"
  }
 },
 "nbformat": 4,
 "nbformat_minor": 2
}
